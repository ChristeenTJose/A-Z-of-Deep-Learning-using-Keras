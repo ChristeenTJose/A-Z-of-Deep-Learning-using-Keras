{
  "nbformat": 4,
  "nbformat_minor": 0,
  "metadata": {
    "colab": {
      "name": "kaggle.json.ipynb",
      "provenance": [],
      "collapsed_sections": [],
      "mount_file_id": "1ch5gY9QLOEBZ3uxfAvCAGD5LoGZZ7jYL",
      "authorship_tag": "ABX9TyNhe5QMgUvc/F+bTha+OREW",
      "include_colab_link": true
    },
    "kernelspec": {
      "name": "python3",
      "display_name": "Python 3"
    },
    "accelerator": "GPU"
  },
  "cells": [
    {
      "cell_type": "markdown",
      "metadata": {
        "id": "view-in-github",
        "colab_type": "text"
      },
      "source": [
        "<a href=\"https://colab.research.google.com/github/ChristeenTJose/A-Z-of-Deep-Learning-using-Keras/blob/master/kaggle_json.ipynb\" target=\"_parent\"><img src=\"https://colab.research.google.com/assets/colab-badge.svg\" alt=\"Open In Colab\"/></a>"
      ]
    },
    {
      "cell_type": "markdown",
      "metadata": {
        "id": "yHcpYW1-OkG-",
        "colab_type": "text"
      },
      "source": [
        "Ensure kaggle.json is in the location ~/.kaggle/kaggle.json to use the API."
      ]
    },
    {
      "cell_type": "code",
      "metadata": {
        "id": "aQLnrPNdOPBN",
        "colab_type": "code",
        "colab": {}
      },
      "source": [
        "! cd ~/.kaggle/"
      ],
      "execution_count": 0,
      "outputs": []
    },
    {
      "cell_type": "code",
      "metadata": {
        "id": "L7hv__NjMrdW",
        "colab_type": "code",
        "colab": {}
      },
      "source": [
        "from google.colab import files\n",
        "files.upload()"
      ],
      "execution_count": 0,
      "outputs": []
    },
    {
      "cell_type": "markdown",
      "metadata": {
        "id": "6exUFbn3PC2p",
        "colab_type": "text"
      },
      "source": [
        "Your Kaggle API key is readable by other users on this system! To fix this, you can run "
      ]
    },
    {
      "cell_type": "code",
      "metadata": {
        "id": "EmNSklqYPPmG",
        "colab_type": "code",
        "colab": {}
      },
      "source": [
        "! chmod 600 kaggle.json"
      ],
      "execution_count": 0,
      "outputs": []
    },
    {
      "cell_type": "code",
      "metadata": {
        "id": "QoFMiT9mSLIA",
        "colab_type": "code",
        "colab": {}
      },
      "source": [
        "! cd /content/"
      ],
      "execution_count": 0,
      "outputs": []
    },
    {
      "cell_type": "code",
      "metadata": {
        "id": "lY8aADxINufu",
        "colab_type": "code",
        "colab": {
          "base_uri": "https://localhost:8080/",
          "height": 67
        },
        "outputId": "9529e699-0f50-41cd-eb2d-32f430e6a141"
      },
      "source": [
        "! kaggle datasets download -d veeralakrishna/butterfly-dataset"
      ],
      "execution_count": 6,
      "outputs": [
        {
          "output_type": "stream",
          "text": [
            "Downloading butterfly-dataset.zip to /content\n",
            " 98% 444M/454M [00:04<00:00, 107MB/s] \n",
            "100% 454M/454M [00:04<00:00, 102MB/s]\n"
          ],
          "name": "stdout"
        }
      ]
    },
    {
      "cell_type": "markdown",
      "metadata": {
        "id": "cUnngps8TCCv",
        "colab_type": "text"
      },
      "source": [
        "Create a directory named 'Project' in your google drive\n",
        "\n"
      ]
    },
    {
      "cell_type": "code",
      "metadata": {
        "id": "nfyI6w4AThDm",
        "colab_type": "code",
        "colab": {}
      },
      "source": [
        "! cp /content/butterfly-dataset.zip '/content/drive/My Drive/Project/Dataset'"
      ],
      "execution_count": 0,
      "outputs": []
    }
  ]
}